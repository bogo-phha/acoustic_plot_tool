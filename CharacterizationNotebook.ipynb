{
 "cells": [
  {
   "cell_type": "markdown",
   "metadata": {},
   "source": [
    "#  Characterisation Plot Tool v2\n",
    "For instructions and feature overview see the end of this notebook.\n",
    "\n",
    "Compared to v1 the packages ipysheet and ipytree are required additionally:\n",
    "\n",
    "https://ipysheet.readthedocs.io/en/latest/\n",
    "\n",
    "https://github.com/QuantStack/ipytree"
   ]
  },
  {
   "cell_type": "code",
   "execution_count": 1,
   "metadata": {},
   "outputs": [],
   "source": [
    "# magic ipython function %load_ext to load ipython extension autoreload which reloads all modules every time a command is executed\n",
    "%load_ext autoreload\n",
    "%autoreload 2"
   ]
  },
  {
   "cell_type": "code",
   "execution_count": 2,
   "metadata": {},
   "outputs": [
    {
     "data": {
      "application/vnd.jupyter.widget-view+json": {
       "model_id": "db4b5dd5dbfe4c14aba84146e7034a49",
       "version_major": 2,
       "version_minor": 0
      },
      "text/plain": [
       "SelectDirectoryButton(description='Select Directory', icon='square-o', style=ButtonStyle(button_color='orange'…"
      ]
     },
     "metadata": {},
     "output_type": "display_data"
    },
    {
     "data": {
      "application/vnd.jupyter.widget-view+json": {
       "model_id": "7265c1b5f7fe4a55b4601665921a7b93",
       "version_major": 2,
       "version_minor": 0
      },
      "text/plain": [
       "Tree(nodes=(Node(name='Base', nodes=(Directory(name='analog MEMS', nodes=(Directory(name='a', opened=False), D…"
      ]
     },
     "metadata": {},
     "output_type": "display_data"
    },
    {
     "name": "stdout",
     "output_type": "stream",
     "text": [
      "Handling Click!\n",
      "Handling Click!\n"
     ]
    }
   ],
   "source": [
    "import Measurements \n",
    "from DirectoryTree import DirectoryTree\n",
    "directory = DirectoryTree()"
   ]
  },
  {
   "cell_type": "code",
   "execution_count": 7,
   "metadata": {
    "scrolled": false
   },
   "outputs": [
    {
     "name": "stdout",
     "output_type": "stream",
     "text": [
      "WARNING *** file size (357191) not 512 + multiple of sector size (512)\n"
     ]
    },
    {
     "data": {
      "application/vnd.jupyter.widget-view+json": {
       "model_id": "441884420fd24342811d43ebce3e12e6",
       "version_major": 2,
       "version_minor": 0
      },
      "text/plain": [
       "VBox(children=(Tab(children=(HBox(children=(Select(layout=Layout(height='250px', width='500px'), options=('FR'…"
      ]
     },
     "metadata": {},
     "output_type": "display_data"
    }
   ],
   "source": [
    "# Parse these into a list of measurements\n",
    "%matplotlib inline\n",
    "measurements = []\n",
    "import Measurements\n",
    "from PlotGui import PlotGui\n",
    "\n",
    "for path in directory.paths:\n",
    "    measurements.append( Measurements.Mic(path) )\n",
    "    \n",
    "\n",
    "p = PlotGui(measurements)"
   ]
  },
  {
   "cell_type": "code",
   "execution_count": null,
   "metadata": {},
   "outputs": [],
   "source": [
    "%matplotlib qt"
   ]
  }
 ],
 "metadata": {
  "kernelspec": {
   "display_name": "Python 3 (ipykernel)",
   "language": "python",
   "name": "python3"
  },
  "language_info": {
   "codemirror_mode": {
    "name": "ipython",
    "version": 3
   },
   "file_extension": ".py",
   "mimetype": "text/x-python",
   "name": "python",
   "nbconvert_exporter": "python",
   "pygments_lexer": "ipython3",
   "version": "3.9.12"
  },
  "vscode": {
   "interpreter": {
    "hash": "25034407fed5d681614dac11a1c0537e8cb49e3a8883c071303eea01322943d9"
   }
  }
 },
 "nbformat": 4,
 "nbformat_minor": 2
}
