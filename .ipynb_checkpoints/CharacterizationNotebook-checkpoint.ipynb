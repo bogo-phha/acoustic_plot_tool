{
 "cells": [
  {
   "cell_type": "markdown",
   "metadata": {},
   "source": [
    "#  Characterisation Plot Tool v2\n",
    "For instructions and feature overview see the end of this notebook.\n",
    "\n",
    "Compared to v1 the packages ipysheet and ipytree are required additionally:\n",
    "\n",
    "https://ipysheet.readthedocs.io/en/latest/\n",
    "\n",
    "https://github.com/QuantStack/ipytree"
   ]
  },
  {
   "cell_type": "code",
   "execution_count": 1,
   "metadata": {},
   "outputs": [
    {
     "data": {
      "application/vnd.jupyter.widget-view+json": {
       "model_id": "e4ff308199454c48bd067eb6dac5a61a",
       "version_major": 2,
       "version_minor": 0
      },
      "text/plain": [
       "SelectDirectoryButton(description='Select Directory', icon='square-o', style=ButtonStyle(button_color='orange'…"
      ]
     },
     "metadata": {},
     "output_type": "display_data"
    },
    {
     "data": {
      "application/vnd.jupyter.widget-view+json": {
       "model_id": "2549a2d0f896477f98b6a14456b4fd33",
       "version_major": 2,
       "version_minor": 0
      },
      "text/plain": [
       "Tree(nodes=(Node(name='Base'),))"
      ]
     },
     "metadata": {},
     "output_type": "display_data"
    },
    {
     "data": {
      "application/vnd.jupyter.widget-view+json": {
       "model_id": "d05e53773d994e96aadf80e9df7e9482",
       "version_major": 2,
       "version_minor": 0
      },
      "text/plain": [
       "Tree(nodes=(Node(name='Base', nodes=(Directory(name='0deg', opened=False), Directory(name='135deg', opened=Fal…"
      ]
     },
     "metadata": {},
     "output_type": "display_data"
    }
   ],
   "source": [
    "from DirectoryTree import DirectoryTree\n",
    "directory = DirectoryTree()"
   ]
  },
  {
   "cell_type": "code",
   "execution_count": 2,
   "metadata": {
    "scrolled": false
   },
   "outputs": [
    {
     "ename": "AttributeError",
     "evalue": "module 'Measurements' has no attribute 'DualFF'",
     "output_type": "error",
     "traceback": [
      "\u001b[1;31m---------------------------------------------------------------------------\u001b[0m",
      "\u001b[1;31mAttributeError\u001b[0m                            Traceback (most recent call last)",
      "\u001b[1;32m~\\AppData\\Local\\Temp/ipykernel_792/4149338421.py\u001b[0m in \u001b[0;36m<module>\u001b[1;34m\u001b[0m\n\u001b[0;32m      6\u001b[0m \u001b[1;32mimport\u001b[0m \u001b[0mMeasurements\u001b[0m\u001b[1;33m\u001b[0m\u001b[1;33m\u001b[0m\u001b[0m\n\u001b[0;32m      7\u001b[0m \u001b[1;32mfor\u001b[0m \u001b[0mpath\u001b[0m \u001b[1;32min\u001b[0m \u001b[0mdirectory\u001b[0m\u001b[1;33m.\u001b[0m\u001b[0mpaths\u001b[0m\u001b[1;33m:\u001b[0m\u001b[1;33m\u001b[0m\u001b[1;33m\u001b[0m\u001b[0m\n\u001b[1;32m----> 8\u001b[1;33m     \u001b[0mmeasurements\u001b[0m\u001b[1;33m.\u001b[0m\u001b[0mappend\u001b[0m\u001b[1;33m(\u001b[0m \u001b[0mMeasurements\u001b[0m\u001b[1;33m.\u001b[0m\u001b[0mDualFF\u001b[0m\u001b[1;33m(\u001b[0m\u001b[0mpath\u001b[0m\u001b[1;33m)\u001b[0m \u001b[1;33m)\u001b[0m\u001b[1;33m\u001b[0m\u001b[1;33m\u001b[0m\u001b[0m\n\u001b[0m\u001b[0;32m      9\u001b[0m \u001b[1;33m\u001b[0m\u001b[0m\n\u001b[0;32m     10\u001b[0m \u001b[1;32mfrom\u001b[0m \u001b[0mPlotGui\u001b[0m \u001b[1;32mimport\u001b[0m \u001b[0mPlotGui\u001b[0m\u001b[1;33m\u001b[0m\u001b[1;33m\u001b[0m\u001b[0m\n",
      "\u001b[1;31mAttributeError\u001b[0m: module 'Measurements' has no attribute 'DualFF'"
     ]
    }
   ],
   "source": [
    "# Parse these into a list of measurements\n",
    "%matplotlib inline\n",
    "#import mpld3\n",
    "#mpld3.enable_notebook()\n",
    "measurements = []\n",
    "import Measurements\n",
    "for path in directory.paths:\n",
    "    measurements.append( Measurements.FleX(path) )\n",
    "    \n",
    "from PlotGui import PlotGui\n",
    "p = PlotGui(measurements)"
   ]
  },
  {
   "cell_type": "markdown",
   "metadata": {},
   "source": [
    "# Manual\n",
    "## 1. Loading Files\n",
    "After executing the first code block a \"Select Directory\" dialog will appear. Select the root folder that contains the characterisation folders that you want to work with, eg. the customer project folder.\n",
    "\n",
    "Next a directory tree structure will be created. Navigate through this tree and mark all folders that contain a measurement that you want to work with. Only mark folders that directly contain measurement xls files. The program does not recursively search for files.\n",
    "\n",
    "## 2. Viewing Measurement Data\n",
    "After executing the next block the three-tabs user interrface will appear. On the left colum in the first tab you can select from a range of directly measured and derived transfer functions. Once a transfer function and a measurement has been selected the plot appears. Tools for navigating the plot can be found on the bottom left corner. Multiple selections are possible for both the transfer functions and the measurements, so you can compare e.g. D2E vs. D2FB as well as comparing different samples or measurements. If a measurement did not contain a particular sub-measurement, e.g. the characterisation was done on a human subject and neither D2E nor A2E were measured, they will be automatically replaced by zeros.\n",
    "\n",
    "## 3. Plot Config\n",
    "In this tab one can assign a title to the plot, activate phase wrapping and turn off the plot legend.\n",
    "\n",
    "## 4. Calibration\n",
    "In the calibration tab the curves can be edited by means of a spreadsheet table. You can assign a new label (the default label is the file path), compensate the headphone amplifier, invert the driver phase and set additional phase offsets for the driver and target curves. These changes only take effect after pressing \"Update\".\n",
    "\n",
    "## 5. Exporting\n",
    "In the same tab the curves can be exported, including the edited driver amplitude and phase offsets. This means that these curves can be loaded into FleX without further actions in FleX's project tab. Select the files for export with the checkboxes in the rightmost column. With the checkboxes at the bottom select if you want to export FF/FB curves (D2FB, D2FF, A2FB, A2FF), Ear curves (D2E, A2E, A2E(open)) or additionally the FF target curves. Then press \"Export\". Next you will be asked to specify the folder in which to write the calibrated measurement data. Note that the label is used to name the folders for the individual measurements, therefore you should change the labels to valid folder names before exporting. \n",
    "\n",
    "## 6. Use Cases\n",
    "- Acoustic analysis\n",
    "- Observe sample to sample variations\n",
    "- Pick evenly spaced leaky characterisations from a large set of measurements\n",
    "- Prepare files for FleX\n",
    "- Present data for reports\n",
    "\n",
    "## 7. Future Feautures\n",
    "- Support of other measurement formats\n",
    "- Report-friendly summary plots\n",
    "\n",
    "27.5.2020"
   ]
  },
  {
   "cell_type": "code",
   "execution_count": null,
   "metadata": {},
   "outputs": [],
   "source": [
    "%matplotlib qt"
   ]
  }
 ],
 "metadata": {
  "kernelspec": {
   "display_name": "Python 3 (ipykernel)",
   "language": "python",
   "name": "python3"
  },
  "language_info": {
   "codemirror_mode": {
    "name": "ipython",
    "version": 3
   },
   "file_extension": ".py",
   "mimetype": "text/x-python",
   "name": "python",
   "nbconvert_exporter": "python",
   "pygments_lexer": "ipython3",
   "version": "3.9.7"
  }
 },
 "nbformat": 4,
 "nbformat_minor": 2
}
